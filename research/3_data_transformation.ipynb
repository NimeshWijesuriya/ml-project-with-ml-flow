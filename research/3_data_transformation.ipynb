{
 "cells": [
  {
   "cell_type": "code",
   "execution_count": 3,
   "metadata": {},
   "outputs": [],
   "source": [
    "import os"
   ]
  },
  {
   "cell_type": "code",
   "execution_count": 4,
   "metadata": {},
   "outputs": [
    {
     "data": {
      "text/plain": [
       "'c:\\\\Users\\\\User\\\\OneDrive\\\\Desktop\\\\ml-project-with-ml-flow-1\\\\research'"
      ]
     },
     "execution_count": 4,
     "metadata": {},
     "output_type": "execute_result"
    }
   ],
   "source": [
    "%pwd"
   ]
  },
  {
   "cell_type": "code",
   "execution_count": 5,
   "metadata": {},
   "outputs": [],
   "source": [
    "os.chdir(\"../\")"
   ]
  },
  {
   "cell_type": "code",
   "execution_count": 6,
   "metadata": {},
   "outputs": [
    {
     "data": {
      "text/plain": [
       "'c:\\\\Users\\\\User\\\\OneDrive\\\\Desktop\\\\ml-project-with-ml-flow-1'"
      ]
     },
     "execution_count": 6,
     "metadata": {},
     "output_type": "execute_result"
    }
   ],
   "source": [
    "%pwd"
   ]
  },
  {
   "cell_type": "code",
   "execution_count": 7,
   "metadata": {},
   "outputs": [],
   "source": [
    "from dataclasses import dataclass\n",
    "from pathlib import Path\n",
    "\n",
    "\n",
    "@dataclass(frozen=True)\n",
    "class DataTransformationConfig:\n",
    "    root_dir: Path\n",
    "    data_path: Path"
   ]
  },
  {
   "cell_type": "code",
   "execution_count": 8,
   "metadata": {},
   "outputs": [],
   "source": [
    "from src.mlProject.constants import *\n",
    "from src.mlProject.utils.common import *"
   ]
  },
  {
   "cell_type": "code",
   "execution_count": 9,
   "metadata": {},
   "outputs": [],
   "source": [
    "class ConfigurationManager:\n",
    "    def __init__(\n",
    "        self,\n",
    "        config_filepath = CONFIG_FILE_PATH,\n",
    "        params_filepath = PARAMS_FILE_PATH,\n",
    "        schema_filepath = SCHEMA_FILE_PATH):\n",
    "\n",
    "        self.config = read_yaml(config_filepath)\n",
    "        self.params = read_yaml(params_filepath)\n",
    "        self.schema = read_yaml(schema_filepath)\n",
    "\n",
    "        create_directories([self.config.artifacts_root])\n",
    "\n",
    "\n",
    "    \n",
    "    def get_data_transformation_config(self) -> DataTransformationConfig:\n",
    "        config = self.config.data_transformation\n",
    "\n",
    "        create_directories([config.root_dir])\n",
    "\n",
    "        data_transformation_config = DataTransformationConfig(\n",
    "            root_dir=config.root_dir,\n",
    "            data_path=config.data_path,\n",
    "        )\n",
    "\n",
    "        return data_transformation_config"
   ]
  },
  {
   "cell_type": "code",
   "execution_count": 10,
   "metadata": {},
   "outputs": [],
   "source": [
    "import os\n",
    "from src.mlProject import logger\n",
    "from sklearn.model_selection import train_test_split\n",
    "import pandas as pd"
   ]
  },
  {
   "cell_type": "code",
   "execution_count": 15,
   "metadata": {},
   "outputs": [],
   "source": [
    "import pandas as pd\n",
    "from sklearn.model_selection import train_test_split\n",
    "from sklearn.preprocessing import MinMaxScaler\n",
    "import os\n",
    "import logging\n",
    "import numpy as np\n",
    "\n",
    "# Configure logging\n",
    "logging.basicConfig(level=logging.INFO)\n",
    "logger = logging.getLogger(__name__)\n",
    "\n",
    "class DataTransformation:\n",
    "    def __init__(self, config):\n",
    "        self.config = config\n",
    "\n",
    "    def train_test_spliting(self):\n",
    "        # Load the data\n",
    "        data = pd.read_csv(self.config.data_path)\n",
    "\n",
    "        # Transform the target variable and create tenure groups\n",
    "        data['Churn'] = np.where(data.Churn == 'Yes', 1, 0)\n",
    "        labels = [\"{0} - {1}\".format(i, i + 11) for i in range(1, 72, 12)]\n",
    "        data['tenure_group'] = pd.cut(data.tenure, range(1, 80, 12), right=False, labels=labels)\n",
    "        \n",
    "        # Store columns separately\n",
    "        id_column = data.pop('customerID')\n",
    "        tenure_column = data.pop('tenure')\n",
    "        monthly_charge_column = data.pop('MonthlyCharges')\n",
    "        total_charges_column = data.pop('TotalCharges')\n",
    "\n",
    "        # Convert to numeric and handle errors\n",
    "        data['MonthlyCharges'] = pd.to_numeric(monthly_charge_column, errors='coerce')\n",
    "        data['TotalCharges'] = pd.to_numeric(total_charges_column, errors='coerce')\n",
    "\n",
    "        # Identify categorical columns\n",
    "        categorical_columns = data.select_dtypes(include=['object', 'category']).columns\n",
    "\n",
    "        # Create dummy variables for categorical columns\n",
    "        data_dummies = pd.get_dummies(data, columns=categorical_columns)\n",
    "\n",
    "        # Initialize and apply MinMaxScaler\n",
    "        scaler = MinMaxScaler()\n",
    "\n",
    "        # Handle non-numeric values by dropping rows with NaN in scaled columns\n",
    "        data_dummies = data_dummies.dropna(subset=['MonthlyCharges', 'TotalCharges'])\n",
    "\n",
    "        # Scale all numerical columns\n",
    "        numeric_columns = ['MonthlyCharges', 'TotalCharges']\n",
    "        data_dummies[numeric_columns] = scaler.fit_transform(data_dummies[numeric_columns])\n",
    "        data_dummies = data_dummies.replace({True: 1, False: 0})\n",
    "        # Split the data into training and test sets (0.75, 0.25 split)\n",
    "        train, test = train_test_split(data_dummies, test_size=0.25, random_state=42)\n",
    "\n",
    "        # Save the split datasets to CSV\n",
    "        train.to_csv(os.path.join(self.config.root_dir, \"train.csv\"), index=False)\n",
    "        test.to_csv(os.path.join(self.config.root_dir, \"test.csv\"), index=False)\n",
    "\n",
    "        # Log and print shapes of the resulting datasets\n",
    "        logger.info(\"Split data into training and test sets\")\n",
    "        logger.info(f\"Training set shape: {train.shape}\")\n",
    "        logger.info(f\"Test set shape: {test.shape}\")\n",
    "\n",
    "        print(f\"Training set shape: {train.shape}\")\n",
    "        print(f\"Test set shape: {test.shape}\")\n"
   ]
  },
  {
   "cell_type": "code",
   "execution_count": 16,
   "metadata": {},
   "outputs": [
    {
     "name": "stderr",
     "output_type": "stream",
     "text": [
      "INFO:mlProjectLogger:yaml file: config\\config.yaml loaded successfully\n",
      "INFO:mlProjectLogger:yaml file: params.yaml loaded successfully\n",
      "INFO:mlProjectLogger:yaml file: schema.yaml loaded successfully\n",
      "INFO:mlProjectLogger:created directory at: artifacts\n",
      "INFO:mlProjectLogger:created directory at: artifacts/data_transformation\n",
      "C:\\Users\\User\\AppData\\Local\\Temp\\ipykernel_9488\\411764227.py:50: FutureWarning: Downcasting behavior in `replace` is deprecated and will be removed in a future version. To retain the old behavior, explicitly call `result.infer_objects(copy=False)`. To opt-in to the future behavior, set `pd.set_option('future.no_silent_downcasting', True)`\n",
      "  data_dummies = data_dummies.replace({True: 1, False: 0})\n",
      "INFO:__main__:Split data into training and test sets\n",
      "INFO:__main__:Training set shape: (5274, 51)\n",
      "INFO:__main__:Test set shape: (1758, 51)\n"
     ]
    },
    {
     "name": "stdout",
     "output_type": "stream",
     "text": [
      "Training set shape: (5274, 51)\n",
      "Test set shape: (1758, 51)\n"
     ]
    }
   ],
   "source": [
    "try:\n",
    "    config = ConfigurationManager()\n",
    "    data_transformation_config = config.get_data_transformation_config()\n",
    "    data_transformation = DataTransformation(config=data_transformation_config)\n",
    "    data_transformation.train_test_spliting()\n",
    "except Exception as e:\n",
    "    raise e"
   ]
  },
  {
   "cell_type": "code",
   "execution_count": null,
   "metadata": {},
   "outputs": [],
   "source": []
  }
 ],
 "metadata": {
  "kernelspec": {
   "display_name": "venv",
   "language": "python",
   "name": "python3"
  },
  "language_info": {
   "codemirror_mode": {
    "name": "ipython",
    "version": 3
   },
   "file_extension": ".py",
   "mimetype": "text/x-python",
   "name": "python",
   "nbconvert_exporter": "python",
   "pygments_lexer": "ipython3",
   "version": "3.12.5"
  }
 },
 "nbformat": 4,
 "nbformat_minor": 2
}
